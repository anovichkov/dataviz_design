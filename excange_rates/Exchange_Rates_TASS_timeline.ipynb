{
 "cells": [
  {
   "cell_type": "markdown",
   "metadata": {},
   "source": [
    "# Автоматический курс валют в шаблоне ТАСС"
   ]
  },
  {
   "cell_type": "markdown",
   "metadata": {},
   "source": [
    "## Загружаем необходимые бибилиотеки\n",
    "Кажется, что их избыточно много, но без них все работает абы  как."
   ]
  },
  {
   "cell_type": "code",
   "execution_count": 1,
   "metadata": {
    "scrolled": true
   },
   "outputs": [],
   "source": [
    "from pandas_datareader import data as pdr # для понимания дат\n",
    "import datetime # для манипуляций с датами\n",
    "from datetime import timedelta # для вычесления вчерашнего дня\n",
    "import pandas as pd # для работы с данными\n",
    "import yfinance as yf # для подключения к Yahoo Finance\n",
    "import numpy as np # для вычислений\n",
    "import matplotlib.pyplot as plt #для визуализации"
   ]
  },
  {
   "cell_type": "code",
   "execution_count": 2,
   "metadata": {},
   "outputs": [],
   "source": [
    "from pandas.plotting import register_matplotlib_converters\n",
    "register_matplotlib_converters()"
   ]
  },
  {
   "cell_type": "markdown",
   "metadata": {},
   "source": [
    "## Работа с датами\n",
    "Нам нужно определить сегодняшний и вчерашний день"
   ]
  },
  {
   "cell_type": "code",
   "execution_count": 3,
   "metadata": {},
   "outputs": [],
   "source": [
    "start = '2014-01-01' # с этой дты начнется построение графика"
   ]
  },
  {
   "cell_type": "code",
   "execution_count": 4,
   "metadata": {},
   "outputs": [
    {
     "name": "stdout",
     "output_type": "stream",
     "text": [
      "2020-04-03\n"
     ]
    }
   ],
   "source": [
    "# дату сегодняшнего дня я буду использовать в вычислениях\n",
    "\n",
    "today = datetime.date.today()\n",
    "print(today)"
   ]
  },
  {
   "cell_type": "code",
   "execution_count": 5,
   "metadata": {},
   "outputs": [
    {
     "name": "stdout",
     "output_type": "stream",
     "text": [
      "2020-03-24\n"
     ]
    }
   ],
   "source": [
    "day_before = datetime.date.today() - timedelta(days=10) #определяю вчерашний день\n",
    "print(day_before)"
   ]
  },
  {
   "cell_type": "code",
   "execution_count": 6,
   "metadata": {},
   "outputs": [
    {
     "name": "stdout",
     "output_type": "stream",
     "text": [
      "03.04.2020 15:00\n"
     ]
    }
   ],
   "source": [
    "# определил текущее время до предыдущего часа \n",
    "# потом я буду это использовать в оформлении\n",
    "\n",
    "now = datetime.datetime.now().strftime('%d.%m.%Y %H:%M') # strtime позволяет оформить время в любой формат\n",
    "print(now)"
   ]
  },
  {
   "cell_type": "code",
   "execution_count": 7,
   "metadata": {},
   "outputs": [
    {
     "name": "stdout",
     "output_type": "stream",
     "text": [
      "202004031500\n"
     ]
    }
   ],
   "source": [
    "now2 = datetime.datetime.now().strftime('%Y%m%d%H%M') # другая форма записи для формирования имени файла png\n",
    "print(now2)"
   ]
  },
  {
   "cell_type": "markdown",
   "metadata": {},
   "source": [
    "## Сбор данных\n",
    "Используем доступ к Yahoo Finance"
   ]
  },
  {
   "cell_type": "code",
   "execution_count": 8,
   "metadata": {},
   "outputs": [],
   "source": [
    "yf.pdr_override() # магия"
   ]
  },
  {
   "cell_type": "code",
   "execution_count": 9,
   "metadata": {
    "scrolled": true
   },
   "outputs": [
    {
     "name": "stdout",
     "output_type": "stream",
     "text": [
      "[*********************100%***********************]  2 of 2 completed\n"
     ]
    },
    {
     "data": {
      "text/html": [
       "<div>\n",
       "<style scoped>\n",
       "    .dataframe tbody tr th:only-of-type {\n",
       "        vertical-align: middle;\n",
       "    }\n",
       "\n",
       "    .dataframe tbody tr th {\n",
       "        vertical-align: top;\n",
       "    }\n",
       "\n",
       "    .dataframe thead tr th {\n",
       "        text-align: left;\n",
       "    }\n",
       "\n",
       "    .dataframe thead tr:last-of-type th {\n",
       "        text-align: right;\n",
       "    }\n",
       "</style>\n",
       "<table border=\"1\" class=\"dataframe\">\n",
       "  <thead>\n",
       "    <tr>\n",
       "      <th></th>\n",
       "      <th colspan=\"2\" halign=\"left\">Adj Close</th>\n",
       "      <th colspan=\"2\" halign=\"left\">Close</th>\n",
       "      <th colspan=\"2\" halign=\"left\">High</th>\n",
       "      <th colspan=\"2\" halign=\"left\">Low</th>\n",
       "      <th colspan=\"2\" halign=\"left\">Open</th>\n",
       "      <th colspan=\"2\" halign=\"left\">Volume</th>\n",
       "    </tr>\n",
       "    <tr>\n",
       "      <th></th>\n",
       "      <th>EURRUB=X</th>\n",
       "      <th>USDRUB=X</th>\n",
       "      <th>EURRUB=X</th>\n",
       "      <th>USDRUB=X</th>\n",
       "      <th>EURRUB=X</th>\n",
       "      <th>USDRUB=X</th>\n",
       "      <th>EURRUB=X</th>\n",
       "      <th>USDRUB=X</th>\n",
       "      <th>EURRUB=X</th>\n",
       "      <th>USDRUB=X</th>\n",
       "      <th>EURRUB=X</th>\n",
       "      <th>USDRUB=X</th>\n",
       "    </tr>\n",
       "    <tr>\n",
       "      <th>Date</th>\n",
       "      <th></th>\n",
       "      <th></th>\n",
       "      <th></th>\n",
       "      <th></th>\n",
       "      <th></th>\n",
       "      <th></th>\n",
       "      <th></th>\n",
       "      <th></th>\n",
       "      <th></th>\n",
       "      <th></th>\n",
       "      <th></th>\n",
       "      <th></th>\n",
       "    </tr>\n",
       "  </thead>\n",
       "  <tbody>\n",
       "    <tr>\n",
       "      <td>2013-12-31</td>\n",
       "      <td>45.134499</td>\n",
       "      <td>32.683201</td>\n",
       "      <td>45.134499</td>\n",
       "      <td>32.683201</td>\n",
       "      <td>45.402599</td>\n",
       "      <td>32.946602</td>\n",
       "      <td>45.002399</td>\n",
       "      <td>32.716202</td>\n",
       "      <td>45.177799</td>\n",
       "      <td>32.716202</td>\n",
       "      <td>0.0</td>\n",
       "      <td>0.0</td>\n",
       "    </tr>\n",
       "    <tr>\n",
       "      <td>2014-01-01</td>\n",
       "      <td>45.213001</td>\n",
       "      <td>32.683201</td>\n",
       "      <td>45.213001</td>\n",
       "      <td>32.683201</td>\n",
       "      <td>45.213001</td>\n",
       "      <td>32.946602</td>\n",
       "      <td>45.213001</td>\n",
       "      <td>32.661999</td>\n",
       "      <td>45.213001</td>\n",
       "      <td>32.716202</td>\n",
       "      <td>0.0</td>\n",
       "      <td>0.0</td>\n",
       "    </tr>\n",
       "    <tr>\n",
       "      <td>2014-01-02</td>\n",
       "      <td>45.213001</td>\n",
       "      <td>32.706001</td>\n",
       "      <td>45.213001</td>\n",
       "      <td>32.706001</td>\n",
       "      <td>45.299702</td>\n",
       "      <td>33.133999</td>\n",
       "      <td>44.986500</td>\n",
       "      <td>32.753201</td>\n",
       "      <td>45.213001</td>\n",
       "      <td>32.755199</td>\n",
       "      <td>0.0</td>\n",
       "      <td>0.0</td>\n",
       "    </tr>\n",
       "    <tr>\n",
       "      <td>2014-01-03</td>\n",
       "      <td>45.194099</td>\n",
       "      <td>33.095200</td>\n",
       "      <td>45.194099</td>\n",
       "      <td>33.095200</td>\n",
       "      <td>45.245399</td>\n",
       "      <td>33.177700</td>\n",
       "      <td>44.870701</td>\n",
       "      <td>33.007702</td>\n",
       "      <td>45.206001</td>\n",
       "      <td>33.098701</td>\n",
       "      <td>0.0</td>\n",
       "      <td>0.0</td>\n",
       "    </tr>\n",
       "    <tr>\n",
       "      <td>2014-01-06</td>\n",
       "      <td>45.109299</td>\n",
       "      <td>33.165001</td>\n",
       "      <td>45.109299</td>\n",
       "      <td>33.165001</td>\n",
       "      <td>45.342999</td>\n",
       "      <td>33.282902</td>\n",
       "      <td>44.200001</td>\n",
       "      <td>33.140202</td>\n",
       "      <td>44.200001</td>\n",
       "      <td>33.162498</td>\n",
       "      <td>0.0</td>\n",
       "      <td>0.0</td>\n",
       "    </tr>\n",
       "  </tbody>\n",
       "</table>\n",
       "</div>"
      ],
      "text/plain": [
       "            Adj Close                 Close                  High             \\\n",
       "             EURRUB=X   USDRUB=X   EURRUB=X   USDRUB=X   EURRUB=X   USDRUB=X   \n",
       "Date                                                                           \n",
       "2013-12-31  45.134499  32.683201  45.134499  32.683201  45.402599  32.946602   \n",
       "2014-01-01  45.213001  32.683201  45.213001  32.683201  45.213001  32.946602   \n",
       "2014-01-02  45.213001  32.706001  45.213001  32.706001  45.299702  33.133999   \n",
       "2014-01-03  45.194099  33.095200  45.194099  33.095200  45.245399  33.177700   \n",
       "2014-01-06  45.109299  33.165001  45.109299  33.165001  45.342999  33.282902   \n",
       "\n",
       "                  Low                  Open              Volume           \n",
       "             EURRUB=X   USDRUB=X   EURRUB=X   USDRUB=X EURRUB=X USDRUB=X  \n",
       "Date                                                                      \n",
       "2013-12-31  45.002399  32.716202  45.177799  32.716202      0.0      0.0  \n",
       "2014-01-01  45.213001  32.661999  45.213001  32.716202      0.0      0.0  \n",
       "2014-01-02  44.986500  32.753201  45.213001  32.755199      0.0      0.0  \n",
       "2014-01-03  44.870701  33.007702  45.206001  33.098701      0.0      0.0  \n",
       "2014-01-06  44.200001  33.140202  44.200001  33.162498      0.0      0.0  "
      ]
     },
     "execution_count": 9,
     "metadata": {},
     "output_type": "execute_result"
    }
   ],
   "source": [
    "# делаем запрос ежедневной статистики\n",
    "# стоимости доллара и евро в рублях\n",
    "\n",
    "finance = pdr.get_data_yahoo([\"USDRUB=X\",\"EURRUB=X\"], start=start, end=today, interval='1d')\n",
    "finance.head()"
   ]
  },
  {
   "cell_type": "code",
   "execution_count": 10,
   "metadata": {
    "scrolled": true
   },
   "outputs": [
    {
     "name": "stdout",
     "output_type": "stream",
     "text": [
      "[*********************100%***********************]  2 of 2 completed\n"
     ]
    },
    {
     "data": {
      "text/html": [
       "<div>\n",
       "<style scoped>\n",
       "    .dataframe tbody tr th:only-of-type {\n",
       "        vertical-align: middle;\n",
       "    }\n",
       "\n",
       "    .dataframe tbody tr th {\n",
       "        vertical-align: top;\n",
       "    }\n",
       "\n",
       "    .dataframe thead tr th {\n",
       "        text-align: left;\n",
       "    }\n",
       "\n",
       "    .dataframe thead tr:last-of-type th {\n",
       "        text-align: right;\n",
       "    }\n",
       "</style>\n",
       "<table border=\"1\" class=\"dataframe\">\n",
       "  <thead>\n",
       "    <tr>\n",
       "      <th></th>\n",
       "      <th colspan=\"2\" halign=\"left\">Adj Close</th>\n",
       "      <th colspan=\"2\" halign=\"left\">Close</th>\n",
       "      <th colspan=\"2\" halign=\"left\">High</th>\n",
       "      <th colspan=\"2\" halign=\"left\">Low</th>\n",
       "      <th colspan=\"2\" halign=\"left\">Open</th>\n",
       "      <th colspan=\"2\" halign=\"left\">Volume</th>\n",
       "    </tr>\n",
       "    <tr>\n",
       "      <th></th>\n",
       "      <th>EURRUB=X</th>\n",
       "      <th>USDRUB=X</th>\n",
       "      <th>EURRUB=X</th>\n",
       "      <th>USDRUB=X</th>\n",
       "      <th>EURRUB=X</th>\n",
       "      <th>USDRUB=X</th>\n",
       "      <th>EURRUB=X</th>\n",
       "      <th>USDRUB=X</th>\n",
       "      <th>EURRUB=X</th>\n",
       "      <th>USDRUB=X</th>\n",
       "      <th>EURRUB=X</th>\n",
       "      <th>USDRUB=X</th>\n",
       "    </tr>\n",
       "    <tr>\n",
       "      <th>Date</th>\n",
       "      <th></th>\n",
       "      <th></th>\n",
       "      <th></th>\n",
       "      <th></th>\n",
       "      <th></th>\n",
       "      <th></th>\n",
       "      <th></th>\n",
       "      <th></th>\n",
       "      <th></th>\n",
       "      <th></th>\n",
       "      <th></th>\n",
       "      <th></th>\n",
       "    </tr>\n",
       "  </thead>\n",
       "  <tbody>\n",
       "    <tr>\n",
       "      <td>2020-03-23</td>\n",
       "      <td>85.302002</td>\n",
       "      <td>79.501701</td>\n",
       "      <td>85.302002</td>\n",
       "      <td>79.501701</td>\n",
       "      <td>85.366997</td>\n",
       "      <td>79.606499</td>\n",
       "      <td>85.302002</td>\n",
       "      <td>79.110001</td>\n",
       "      <td>85.328003</td>\n",
       "      <td>79.517502</td>\n",
       "      <td>0</td>\n",
       "      <td>0</td>\n",
       "    </tr>\n",
       "    <tr>\n",
       "      <td>2020-03-23</td>\n",
       "      <td>85.331001</td>\n",
       "      <td>79.502403</td>\n",
       "      <td>85.331001</td>\n",
       "      <td>79.502403</td>\n",
       "      <td>85.492996</td>\n",
       "      <td>79.526604</td>\n",
       "      <td>85.110001</td>\n",
       "      <td>79.092003</td>\n",
       "      <td>85.292000</td>\n",
       "      <td>79.113998</td>\n",
       "      <td>0</td>\n",
       "      <td>0</td>\n",
       "    </tr>\n",
       "    <tr>\n",
       "      <td>2020-03-23</td>\n",
       "      <td>85.276001</td>\n",
       "      <td>79.365898</td>\n",
       "      <td>85.276001</td>\n",
       "      <td>79.365898</td>\n",
       "      <td>85.466003</td>\n",
       "      <td>79.514999</td>\n",
       "      <td>84.955002</td>\n",
       "      <td>78.853996</td>\n",
       "      <td>85.339401</td>\n",
       "      <td>79.150002</td>\n",
       "      <td>0</td>\n",
       "      <td>0</td>\n",
       "    </tr>\n",
       "    <tr>\n",
       "      <td>2020-03-24</td>\n",
       "      <td>86.037003</td>\n",
       "      <td>79.594200</td>\n",
       "      <td>86.037003</td>\n",
       "      <td>79.594200</td>\n",
       "      <td>86.037003</td>\n",
       "      <td>79.617401</td>\n",
       "      <td>85.373001</td>\n",
       "      <td>79.088997</td>\n",
       "      <td>85.438004</td>\n",
       "      <td>79.403000</td>\n",
       "      <td>0</td>\n",
       "      <td>0</td>\n",
       "    </tr>\n",
       "    <tr>\n",
       "      <td>2020-03-24</td>\n",
       "      <td>85.677002</td>\n",
       "      <td>79.316299</td>\n",
       "      <td>85.677002</td>\n",
       "      <td>79.316299</td>\n",
       "      <td>86.019997</td>\n",
       "      <td>79.617302</td>\n",
       "      <td>85.502998</td>\n",
       "      <td>78.909302</td>\n",
       "      <td>86.019997</td>\n",
       "      <td>79.602303</td>\n",
       "      <td>0</td>\n",
       "      <td>0</td>\n",
       "    </tr>\n",
       "  </tbody>\n",
       "</table>\n",
       "</div>"
      ],
      "text/plain": [
       "            Adj Close                 Close                  High             \\\n",
       "             EURRUB=X   USDRUB=X   EURRUB=X   USDRUB=X   EURRUB=X   USDRUB=X   \n",
       "Date                                                                           \n",
       "2020-03-23  85.302002  79.501701  85.302002  79.501701  85.366997  79.606499   \n",
       "2020-03-23  85.331001  79.502403  85.331001  79.502403  85.492996  79.526604   \n",
       "2020-03-23  85.276001  79.365898  85.276001  79.365898  85.466003  79.514999   \n",
       "2020-03-24  86.037003  79.594200  86.037003  79.594200  86.037003  79.617401   \n",
       "2020-03-24  85.677002  79.316299  85.677002  79.316299  86.019997  79.617302   \n",
       "\n",
       "                  Low                  Open              Volume           \n",
       "             EURRUB=X   USDRUB=X   EURRUB=X   USDRUB=X EURRUB=X USDRUB=X  \n",
       "Date                                                                      \n",
       "2020-03-23  85.302002  79.110001  85.328003  79.517502        0        0  \n",
       "2020-03-23  85.110001  79.092003  85.292000  79.113998        0        0  \n",
       "2020-03-23  84.955002  78.853996  85.339401  79.150002        0        0  \n",
       "2020-03-24  85.373001  79.088997  85.438004  79.403000        0        0  \n",
       "2020-03-24  85.502998  78.909302  86.019997  79.602303        0        0  "
      ]
     },
     "execution_count": 10,
     "metadata": {},
     "output_type": "execute_result"
    }
   ],
   "source": [
    "# делаем запрос статистики с шагом в час\n",
    "# с начала вчерашнего дня по текущий момент\n",
    "\n",
    "fresh = pdr.get_data_yahoo([\"USDRUB=X\",\"EURRUB=X\"], start=day_before, end=today, interval='1h')\n",
    "fresh.head()"
   ]
  },
  {
   "cell_type": "code",
   "execution_count": 11,
   "metadata": {},
   "outputs": [
    {
     "data": {
      "text/html": [
       "<div>\n",
       "<style scoped>\n",
       "    .dataframe tbody tr th:only-of-type {\n",
       "        vertical-align: middle;\n",
       "    }\n",
       "\n",
       "    .dataframe tbody tr th {\n",
       "        vertical-align: top;\n",
       "    }\n",
       "\n",
       "    .dataframe thead tr th {\n",
       "        text-align: left;\n",
       "    }\n",
       "\n",
       "    .dataframe thead tr:last-of-type th {\n",
       "        text-align: right;\n",
       "    }\n",
       "</style>\n",
       "<table border=\"1\" class=\"dataframe\">\n",
       "  <thead>\n",
       "    <tr>\n",
       "      <th></th>\n",
       "      <th colspan=\"2\" halign=\"left\">Adj Close</th>\n",
       "      <th colspan=\"2\" halign=\"left\">Close</th>\n",
       "      <th colspan=\"2\" halign=\"left\">High</th>\n",
       "      <th colspan=\"2\" halign=\"left\">Low</th>\n",
       "      <th colspan=\"2\" halign=\"left\">Open</th>\n",
       "      <th colspan=\"2\" halign=\"left\">Volume</th>\n",
       "    </tr>\n",
       "    <tr>\n",
       "      <th></th>\n",
       "      <th>EURRUB=X</th>\n",
       "      <th>USDRUB=X</th>\n",
       "      <th>EURRUB=X</th>\n",
       "      <th>USDRUB=X</th>\n",
       "      <th>EURRUB=X</th>\n",
       "      <th>USDRUB=X</th>\n",
       "      <th>EURRUB=X</th>\n",
       "      <th>USDRUB=X</th>\n",
       "      <th>EURRUB=X</th>\n",
       "      <th>USDRUB=X</th>\n",
       "      <th>EURRUB=X</th>\n",
       "      <th>USDRUB=X</th>\n",
       "    </tr>\n",
       "    <tr>\n",
       "      <th>Date</th>\n",
       "      <th></th>\n",
       "      <th></th>\n",
       "      <th></th>\n",
       "      <th></th>\n",
       "      <th></th>\n",
       "      <th></th>\n",
       "      <th></th>\n",
       "      <th></th>\n",
       "      <th></th>\n",
       "      <th></th>\n",
       "      <th></th>\n",
       "      <th></th>\n",
       "    </tr>\n",
       "  </thead>\n",
       "  <tbody>\n",
       "    <tr>\n",
       "      <td>2020-04-03</td>\n",
       "      <td>82.766998</td>\n",
       "      <td>76.722099</td>\n",
       "      <td>82.766998</td>\n",
       "      <td>76.722099</td>\n",
       "      <td>82.766998</td>\n",
       "      <td>76.722099</td>\n",
       "      <td>82.766998</td>\n",
       "      <td>76.722099</td>\n",
       "      <td>82.766998</td>\n",
       "      <td>76.722099</td>\n",
       "      <td>0</td>\n",
       "      <td>0</td>\n",
       "    </tr>\n",
       "  </tbody>\n",
       "</table>\n",
       "</div>"
      ],
      "text/plain": [
       "            Adj Close                 Close                  High             \\\n",
       "             EURRUB=X   USDRUB=X   EURRUB=X   USDRUB=X   EURRUB=X   USDRUB=X   \n",
       "Date                                                                           \n",
       "2020-04-03  82.766998  76.722099  82.766998  76.722099  82.766998  76.722099   \n",
       "\n",
       "                  Low                  Open              Volume           \n",
       "             EURRUB=X   USDRUB=X   EURRUB=X   USDRUB=X EURRUB=X USDRUB=X  \n",
       "Date                                                                      \n",
       "2020-04-03  82.766998  76.722099  82.766998  76.722099        0        0  "
      ]
     },
     "execution_count": 11,
     "metadata": {},
     "output_type": "execute_result"
    }
   ],
   "source": [
    "# забираю из статистики с шагом в час\n",
    "# самое последнее значение\n",
    "\n",
    "fresh = fresh.iloc[[-1]]\n",
    "fresh.head()"
   ]
  },
  {
   "cell_type": "markdown",
   "metadata": {},
   "source": [
    "## Манипуляции с данными\n",
    "Данные нужно объединить"
   ]
  },
  {
   "cell_type": "code",
   "execution_count": 12,
   "metadata": {},
   "outputs": [
    {
     "data": {
      "text/html": [
       "<div>\n",
       "<style scoped>\n",
       "    .dataframe tbody tr th:only-of-type {\n",
       "        vertical-align: middle;\n",
       "    }\n",
       "\n",
       "    .dataframe tbody tr th {\n",
       "        vertical-align: top;\n",
       "    }\n",
       "\n",
       "    .dataframe thead tr th {\n",
       "        text-align: left;\n",
       "    }\n",
       "\n",
       "    .dataframe thead tr:last-of-type th {\n",
       "        text-align: right;\n",
       "    }\n",
       "</style>\n",
       "<table border=\"1\" class=\"dataframe\">\n",
       "  <thead>\n",
       "    <tr>\n",
       "      <th></th>\n",
       "      <th colspan=\"2\" halign=\"left\">Adj Close</th>\n",
       "      <th colspan=\"2\" halign=\"left\">Close</th>\n",
       "      <th colspan=\"2\" halign=\"left\">High</th>\n",
       "      <th colspan=\"2\" halign=\"left\">Low</th>\n",
       "      <th colspan=\"2\" halign=\"left\">Open</th>\n",
       "      <th colspan=\"2\" halign=\"left\">Volume</th>\n",
       "    </tr>\n",
       "    <tr>\n",
       "      <th></th>\n",
       "      <th>EURRUB=X</th>\n",
       "      <th>USDRUB=X</th>\n",
       "      <th>EURRUB=X</th>\n",
       "      <th>USDRUB=X</th>\n",
       "      <th>EURRUB=X</th>\n",
       "      <th>USDRUB=X</th>\n",
       "      <th>EURRUB=X</th>\n",
       "      <th>USDRUB=X</th>\n",
       "      <th>EURRUB=X</th>\n",
       "      <th>USDRUB=X</th>\n",
       "      <th>EURRUB=X</th>\n",
       "      <th>USDRUB=X</th>\n",
       "    </tr>\n",
       "    <tr>\n",
       "      <th>Date</th>\n",
       "      <th></th>\n",
       "      <th></th>\n",
       "      <th></th>\n",
       "      <th></th>\n",
       "      <th></th>\n",
       "      <th></th>\n",
       "      <th></th>\n",
       "      <th></th>\n",
       "      <th></th>\n",
       "      <th></th>\n",
       "      <th></th>\n",
       "      <th></th>\n",
       "    </tr>\n",
       "  </thead>\n",
       "  <tbody>\n",
       "    <tr>\n",
       "      <td>2013-12-31</td>\n",
       "      <td>45.134499</td>\n",
       "      <td>32.683201</td>\n",
       "      <td>45.134499</td>\n",
       "      <td>32.683201</td>\n",
       "      <td>45.402599</td>\n",
       "      <td>32.946602</td>\n",
       "      <td>45.002399</td>\n",
       "      <td>32.716202</td>\n",
       "      <td>45.177799</td>\n",
       "      <td>32.716202</td>\n",
       "      <td>0.0</td>\n",
       "      <td>0.0</td>\n",
       "    </tr>\n",
       "    <tr>\n",
       "      <td>2014-01-01</td>\n",
       "      <td>45.213001</td>\n",
       "      <td>32.683201</td>\n",
       "      <td>45.213001</td>\n",
       "      <td>32.683201</td>\n",
       "      <td>45.213001</td>\n",
       "      <td>32.946602</td>\n",
       "      <td>45.213001</td>\n",
       "      <td>32.661999</td>\n",
       "      <td>45.213001</td>\n",
       "      <td>32.716202</td>\n",
       "      <td>0.0</td>\n",
       "      <td>0.0</td>\n",
       "    </tr>\n",
       "    <tr>\n",
       "      <td>2014-01-02</td>\n",
       "      <td>45.213001</td>\n",
       "      <td>32.706001</td>\n",
       "      <td>45.213001</td>\n",
       "      <td>32.706001</td>\n",
       "      <td>45.299702</td>\n",
       "      <td>33.133999</td>\n",
       "      <td>44.986500</td>\n",
       "      <td>32.753201</td>\n",
       "      <td>45.213001</td>\n",
       "      <td>32.755199</td>\n",
       "      <td>0.0</td>\n",
       "      <td>0.0</td>\n",
       "    </tr>\n",
       "    <tr>\n",
       "      <td>2014-01-03</td>\n",
       "      <td>45.194099</td>\n",
       "      <td>33.095200</td>\n",
       "      <td>45.194099</td>\n",
       "      <td>33.095200</td>\n",
       "      <td>45.245399</td>\n",
       "      <td>33.177700</td>\n",
       "      <td>44.870701</td>\n",
       "      <td>33.007702</td>\n",
       "      <td>45.206001</td>\n",
       "      <td>33.098701</td>\n",
       "      <td>0.0</td>\n",
       "      <td>0.0</td>\n",
       "    </tr>\n",
       "    <tr>\n",
       "      <td>2014-01-06</td>\n",
       "      <td>45.109299</td>\n",
       "      <td>33.165001</td>\n",
       "      <td>45.109299</td>\n",
       "      <td>33.165001</td>\n",
       "      <td>45.342999</td>\n",
       "      <td>33.282902</td>\n",
       "      <td>44.200001</td>\n",
       "      <td>33.140202</td>\n",
       "      <td>44.200001</td>\n",
       "      <td>33.162498</td>\n",
       "      <td>0.0</td>\n",
       "      <td>0.0</td>\n",
       "    </tr>\n",
       "    <tr>\n",
       "      <td>...</td>\n",
       "      <td>...</td>\n",
       "      <td>...</td>\n",
       "      <td>...</td>\n",
       "      <td>...</td>\n",
       "      <td>...</td>\n",
       "      <td>...</td>\n",
       "      <td>...</td>\n",
       "      <td>...</td>\n",
       "      <td>...</td>\n",
       "      <td>...</td>\n",
       "      <td>...</td>\n",
       "      <td>...</td>\n",
       "    </tr>\n",
       "    <tr>\n",
       "      <td>2020-03-30</td>\n",
       "      <td>87.434196</td>\n",
       "      <td>78.652000</td>\n",
       "      <td>87.434196</td>\n",
       "      <td>78.652000</td>\n",
       "      <td>88.975998</td>\n",
       "      <td>80.382004</td>\n",
       "      <td>87.434097</td>\n",
       "      <td>78.737503</td>\n",
       "      <td>87.434196</td>\n",
       "      <td>78.737503</td>\n",
       "      <td>0.0</td>\n",
       "      <td>0.0</td>\n",
       "    </tr>\n",
       "    <tr>\n",
       "      <td>2020-03-31</td>\n",
       "      <td>87.816803</td>\n",
       "      <td>79.589203</td>\n",
       "      <td>87.816803</td>\n",
       "      <td>79.589203</td>\n",
       "      <td>87.926399</td>\n",
       "      <td>79.690300</td>\n",
       "      <td>85.403000</td>\n",
       "      <td>77.664497</td>\n",
       "      <td>87.788597</td>\n",
       "      <td>79.588898</td>\n",
       "      <td>0.0</td>\n",
       "      <td>0.0</td>\n",
       "    </tr>\n",
       "    <tr>\n",
       "      <td>2020-04-01</td>\n",
       "      <td>86.576103</td>\n",
       "      <td>78.414200</td>\n",
       "      <td>86.576103</td>\n",
       "      <td>78.414200</td>\n",
       "      <td>87.044296</td>\n",
       "      <td>79.309998</td>\n",
       "      <td>85.681000</td>\n",
       "      <td>77.720001</td>\n",
       "      <td>86.566002</td>\n",
       "      <td>78.414200</td>\n",
       "      <td>0.0</td>\n",
       "      <td>0.0</td>\n",
       "    </tr>\n",
       "    <tr>\n",
       "      <td>2020-04-02</td>\n",
       "      <td>86.369598</td>\n",
       "      <td>78.666199</td>\n",
       "      <td>86.369598</td>\n",
       "      <td>78.666199</td>\n",
       "      <td>86.573601</td>\n",
       "      <td>79.196999</td>\n",
       "      <td>84.093697</td>\n",
       "      <td>77.375999</td>\n",
       "      <td>86.259300</td>\n",
       "      <td>78.666199</td>\n",
       "      <td>0.0</td>\n",
       "      <td>0.0</td>\n",
       "    </tr>\n",
       "    <tr>\n",
       "      <td>2020-04-03</td>\n",
       "      <td>82.766998</td>\n",
       "      <td>76.722099</td>\n",
       "      <td>82.766998</td>\n",
       "      <td>76.722099</td>\n",
       "      <td>82.766998</td>\n",
       "      <td>76.722099</td>\n",
       "      <td>82.766998</td>\n",
       "      <td>76.722099</td>\n",
       "      <td>82.766998</td>\n",
       "      <td>76.722099</td>\n",
       "      <td>0.0</td>\n",
       "      <td>0.0</td>\n",
       "    </tr>\n",
       "  </tbody>\n",
       "</table>\n",
       "<p>1632 rows × 12 columns</p>\n",
       "</div>"
      ],
      "text/plain": [
       "            Adj Close                 Close                  High             \\\n",
       "             EURRUB=X   USDRUB=X   EURRUB=X   USDRUB=X   EURRUB=X   USDRUB=X   \n",
       "Date                                                                           \n",
       "2013-12-31  45.134499  32.683201  45.134499  32.683201  45.402599  32.946602   \n",
       "2014-01-01  45.213001  32.683201  45.213001  32.683201  45.213001  32.946602   \n",
       "2014-01-02  45.213001  32.706001  45.213001  32.706001  45.299702  33.133999   \n",
       "2014-01-03  45.194099  33.095200  45.194099  33.095200  45.245399  33.177700   \n",
       "2014-01-06  45.109299  33.165001  45.109299  33.165001  45.342999  33.282902   \n",
       "...               ...        ...        ...        ...        ...        ...   \n",
       "2020-03-30  87.434196  78.652000  87.434196  78.652000  88.975998  80.382004   \n",
       "2020-03-31  87.816803  79.589203  87.816803  79.589203  87.926399  79.690300   \n",
       "2020-04-01  86.576103  78.414200  86.576103  78.414200  87.044296  79.309998   \n",
       "2020-04-02  86.369598  78.666199  86.369598  78.666199  86.573601  79.196999   \n",
       "2020-04-03  82.766998  76.722099  82.766998  76.722099  82.766998  76.722099   \n",
       "\n",
       "                  Low                  Open              Volume           \n",
       "             EURRUB=X   USDRUB=X   EURRUB=X   USDRUB=X EURRUB=X USDRUB=X  \n",
       "Date                                                                      \n",
       "2013-12-31  45.002399  32.716202  45.177799  32.716202      0.0      0.0  \n",
       "2014-01-01  45.213001  32.661999  45.213001  32.716202      0.0      0.0  \n",
       "2014-01-02  44.986500  32.753201  45.213001  32.755199      0.0      0.0  \n",
       "2014-01-03  44.870701  33.007702  45.206001  33.098701      0.0      0.0  \n",
       "2014-01-06  44.200001  33.140202  44.200001  33.162498      0.0      0.0  \n",
       "...               ...        ...        ...        ...      ...      ...  \n",
       "2020-03-30  87.434097  78.737503  87.434196  78.737503      0.0      0.0  \n",
       "2020-03-31  85.403000  77.664497  87.788597  79.588898      0.0      0.0  \n",
       "2020-04-01  85.681000  77.720001  86.566002  78.414200      0.0      0.0  \n",
       "2020-04-02  84.093697  77.375999  86.259300  78.666199      0.0      0.0  \n",
       "2020-04-03  82.766998  76.722099  82.766998  76.722099      0.0      0.0  \n",
       "\n",
       "[1632 rows x 12 columns]"
      ]
     },
     "execution_count": 12,
     "metadata": {},
     "output_type": "execute_result"
    }
   ],
   "source": [
    "# объединяю таблицу ежедневной статистики\n",
    "# с самым свежим сегодняшним значением\n",
    "\n",
    "data = [finance, fresh]\n",
    "data = pd.concat(data)\n",
    "data"
   ]
  },
  {
   "cell_type": "code",
   "execution_count": 13,
   "metadata": {},
   "outputs": [
    {
     "data": {
      "text/html": [
       "<div>\n",
       "<style scoped>\n",
       "    .dataframe tbody tr th:only-of-type {\n",
       "        vertical-align: middle;\n",
       "    }\n",
       "\n",
       "    .dataframe tbody tr th {\n",
       "        vertical-align: top;\n",
       "    }\n",
       "\n",
       "    .dataframe thead tr th {\n",
       "        text-align: left;\n",
       "    }\n",
       "\n",
       "    .dataframe thead tr:last-of-type th {\n",
       "        text-align: right;\n",
       "    }\n",
       "</style>\n",
       "<table border=\"1\" class=\"dataframe\">\n",
       "  <thead>\n",
       "    <tr>\n",
       "      <th></th>\n",
       "      <th colspan=\"2\" halign=\"left\">Close</th>\n",
       "    </tr>\n",
       "    <tr>\n",
       "      <th></th>\n",
       "      <th>EURRUB=X</th>\n",
       "      <th>USDRUB=X</th>\n",
       "    </tr>\n",
       "    <tr>\n",
       "      <th>Date</th>\n",
       "      <th></th>\n",
       "      <th></th>\n",
       "    </tr>\n",
       "  </thead>\n",
       "  <tbody>\n",
       "    <tr>\n",
       "      <td>2013-12-31</td>\n",
       "      <td>45.134499</td>\n",
       "      <td>32.683201</td>\n",
       "    </tr>\n",
       "    <tr>\n",
       "      <td>2014-01-01</td>\n",
       "      <td>45.213001</td>\n",
       "      <td>32.683201</td>\n",
       "    </tr>\n",
       "    <tr>\n",
       "      <td>2014-01-02</td>\n",
       "      <td>45.213001</td>\n",
       "      <td>32.706001</td>\n",
       "    </tr>\n",
       "    <tr>\n",
       "      <td>2014-01-03</td>\n",
       "      <td>45.194099</td>\n",
       "      <td>33.095200</td>\n",
       "    </tr>\n",
       "    <tr>\n",
       "      <td>2014-01-06</td>\n",
       "      <td>45.109299</td>\n",
       "      <td>33.165001</td>\n",
       "    </tr>\n",
       "    <tr>\n",
       "      <td>...</td>\n",
       "      <td>...</td>\n",
       "      <td>...</td>\n",
       "    </tr>\n",
       "    <tr>\n",
       "      <td>2020-03-30</td>\n",
       "      <td>87.434196</td>\n",
       "      <td>78.652000</td>\n",
       "    </tr>\n",
       "    <tr>\n",
       "      <td>2020-03-31</td>\n",
       "      <td>87.816803</td>\n",
       "      <td>79.589203</td>\n",
       "    </tr>\n",
       "    <tr>\n",
       "      <td>2020-04-01</td>\n",
       "      <td>86.576103</td>\n",
       "      <td>78.414200</td>\n",
       "    </tr>\n",
       "    <tr>\n",
       "      <td>2020-04-02</td>\n",
       "      <td>86.369598</td>\n",
       "      <td>78.666199</td>\n",
       "    </tr>\n",
       "    <tr>\n",
       "      <td>2020-04-03</td>\n",
       "      <td>82.766998</td>\n",
       "      <td>76.722099</td>\n",
       "    </tr>\n",
       "  </tbody>\n",
       "</table>\n",
       "<p>1632 rows × 2 columns</p>\n",
       "</div>"
      ],
      "text/plain": [
       "                Close           \n",
       "             EURRUB=X   USDRUB=X\n",
       "Date                            \n",
       "2013-12-31  45.134499  32.683201\n",
       "2014-01-01  45.213001  32.683201\n",
       "2014-01-02  45.213001  32.706001\n",
       "2014-01-03  45.194099  33.095200\n",
       "2014-01-06  45.109299  33.165001\n",
       "...               ...        ...\n",
       "2020-03-30  87.434196  78.652000\n",
       "2020-03-31  87.816803  79.589203\n",
       "2020-04-01  86.576103  78.414200\n",
       "2020-04-02  86.369598  78.666199\n",
       "2020-04-03  82.766998  76.722099\n",
       "\n",
       "[1632 rows x 2 columns]"
      ]
     },
     "execution_count": 13,
     "metadata": {},
     "output_type": "execute_result"
    }
   ],
   "source": [
    "# мне не нужны все столбцы\n",
    "# беру только \"Закрытие\"\n",
    "\n",
    "data = data[['Close']]\n",
    "data"
   ]
  },
  {
   "cell_type": "markdown",
   "metadata": {},
   "source": [
    "## Предварительный просмотр\n",
    "Смотрю все ли в порядке с данными"
   ]
  },
  {
   "cell_type": "code",
   "execution_count": 14,
   "metadata": {},
   "outputs": [
    {
     "data": {
      "image/png": "[encoded data removed]",
      "text/plain": [
       "<Figure size 432x288 with 1 Axes>"
      ]
     },
     "metadata": {
      "needs_background": "light"
     },
     "output_type": "display_data"
    }
   ],
   "source": [
    "plt.plot(data)\n",
    "plt.show()"
   ]
  },
  {
   "cell_type": "markdown",
   "metadata": {},
   "source": [
    "Вижу резкий выброс очевидно ошибочных значений"
   ]
  },
  {
   "cell_type": "markdown",
   "metadata": {},
   "source": [
    "## Удаление ошибочных значений\n",
    "Мне нужно найти в какую дату были ошибки и удалить соответствующие строки"
   ]
  },
  {
   "cell_type": "code",
   "execution_count": 15,
   "metadata": {},
   "outputs": [
    {
     "data": {
      "text/html": [
       "<div>\n",
       "<style scoped>\n",
       "    .dataframe tbody tr th:only-of-type {\n",
       "        vertical-align: middle;\n",
       "    }\n",
       "\n",
       "    .dataframe tbody tr th {\n",
       "        vertical-align: top;\n",
       "    }\n",
       "\n",
       "    .dataframe thead tr th {\n",
       "        text-align: left;\n",
       "    }\n",
       "\n",
       "    .dataframe thead tr:last-of-type th {\n",
       "        text-align: right;\n",
       "    }\n",
       "</style>\n",
       "<table border=\"1\" class=\"dataframe\">\n",
       "  <thead>\n",
       "    <tr>\n",
       "      <th></th>\n",
       "      <th>Close</th>\n",
       "    </tr>\n",
       "    <tr>\n",
       "      <th></th>\n",
       "      <th>USDRUB=X</th>\n",
       "    </tr>\n",
       "    <tr>\n",
       "      <th>Date</th>\n",
       "      <th></th>\n",
       "    </tr>\n",
       "  </thead>\n",
       "  <tbody>\n",
       "    <tr>\n",
       "      <td>2013-12-31</td>\n",
       "      <td>32.683201</td>\n",
       "    </tr>\n",
       "    <tr>\n",
       "      <td>2014-01-01</td>\n",
       "      <td>32.683201</td>\n",
       "    </tr>\n",
       "    <tr>\n",
       "      <td>2014-01-02</td>\n",
       "      <td>32.706001</td>\n",
       "    </tr>\n",
       "    <tr>\n",
       "      <td>2014-01-03</td>\n",
       "      <td>33.095200</td>\n",
       "    </tr>\n",
       "    <tr>\n",
       "      <td>2014-01-06</td>\n",
       "      <td>33.165001</td>\n",
       "    </tr>\n",
       "    <tr>\n",
       "      <td>...</td>\n",
       "      <td>...</td>\n",
       "    </tr>\n",
       "    <tr>\n",
       "      <td>2020-03-30</td>\n",
       "      <td>78.652000</td>\n",
       "    </tr>\n",
       "    <tr>\n",
       "      <td>2020-03-31</td>\n",
       "      <td>79.589203</td>\n",
       "    </tr>\n",
       "    <tr>\n",
       "      <td>2020-04-01</td>\n",
       "      <td>78.414200</td>\n",
       "    </tr>\n",
       "    <tr>\n",
       "      <td>2020-04-02</td>\n",
       "      <td>78.666199</td>\n",
       "    </tr>\n",
       "    <tr>\n",
       "      <td>2020-04-03</td>\n",
       "      <td>76.722099</td>\n",
       "    </tr>\n",
       "  </tbody>\n",
       "</table>\n",
       "<p>1632 rows × 1 columns</p>\n",
       "</div>"
      ],
      "text/plain": [
       "                Close\n",
       "             USDRUB=X\n",
       "Date                 \n",
       "2013-12-31  32.683201\n",
       "2014-01-01  32.683201\n",
       "2014-01-02  32.706001\n",
       "2014-01-03  33.095200\n",
       "2014-01-06  33.165001\n",
       "...               ...\n",
       "2020-03-30  78.652000\n",
       "2020-03-31  79.589203\n",
       "2020-04-01  78.414200\n",
       "2020-04-02  78.666199\n",
       "2020-04-03  76.722099\n",
       "\n",
       "[1632 rows x 1 columns]"
      ]
     },
     "execution_count": 15,
     "metadata": {},
     "output_type": "execute_result"
    }
   ],
   "source": [
    " # забираю в отдельную таблицу значения доллара\n",
    "\n",
    "usd = data.loc[:,(slice(None),'USDRUB=X')]\n",
    "usd"
   ]
  },
  {
   "cell_type": "code",
   "execution_count": 16,
   "metadata": {},
   "outputs": [
    {
     "name": "stdout",
     "output_type": "stream",
     "text": [
      "Close  USDRUB=X   2016-01-06\n",
      "dtype: datetime64[ns]\n"
     ]
    }
   ],
   "source": [
    "usdmindate = usd.idxmin() # ищу дату минимального значения доллара\n",
    "print(usdmindate)"
   ]
  },
  {
   "cell_type": "code",
   "execution_count": 17,
   "metadata": {},
   "outputs": [
    {
     "data": {
      "image/png": "[encoded data removed]",
      "text/plain": [
       "<Figure size 432x288 with 1 Axes>"
      ]
     },
     "metadata": {
      "needs_background": "light"
     },
     "output_type": "display_data"
    }
   ],
   "source": [
    "data = data.drop(usdmindate) # удаляю строку с этой датой из таблицы\n",
    "\n",
    "plt.plot(data) # и проверяю графически\n",
    "plt.show()"
   ]
  },
  {
   "cell_type": "markdown",
   "metadata": {},
   "source": [
    "Ошибки нет. Миссия выполнена!"
   ]
  },
  {
   "cell_type": "markdown",
   "metadata": {},
   "source": [
    "## Переменные для графика"
   ]
  },
  {
   "cell_type": "code",
   "execution_count": 18,
   "metadata": {},
   "outputs": [],
   "source": [
    "# после фильтрации ошибочных данных мне снова нужна статистика только доллара и только евро\n",
    "\n",
    "usd = data.loc[:,(slice(None),'USDRUB=X')]\n",
    "euro = data.loc[:,(slice(None),'EURRUB=X')]"
   ]
  },
  {
   "cell_type": "code",
   "execution_count": 19,
   "metadata": {},
   "outputs": [
    {
     "data": {
      "text/plain": [
       "DatetimeIndex(['2013-12-31', '2014-01-01', '2014-01-02', '2014-01-03',\n",
       "               '2014-01-06', '2014-01-07', '2014-01-08', '2014-01-09',\n",
       "               '2014-01-10', '2014-01-13',\n",
       "               ...\n",
       "               '2020-03-23', '2020-03-24', '2020-03-25', '2020-03-26',\n",
       "               '2020-03-27', '2020-03-30', '2020-03-31', '2020-04-01',\n",
       "               '2020-04-02', '2020-04-03'],\n",
       "              dtype='datetime64[ns]', name='Date', length=1631, freq=None)"
      ]
     },
     "execution_count": 19,
     "metadata": {},
     "output_type": "execute_result"
    }
   ],
   "source": [
    "# евро и доллар будут меняться по оси Y\n",
    "# по оси X у нас будет время в формате datetime\n",
    "\n",
    "time = data.index\n",
    "time"
   ]
  },
  {
   "cell_type": "code",
   "execution_count": 20,
   "metadata": {},
   "outputs": [
    {
     "name": "stdout",
     "output_type": "stream",
     "text": [
      "2020-04-03 00:00:00\n"
     ]
    }
   ],
   "source": [
    "# ищу данные для маркеров и подписей свежих значений\n",
    "\n",
    "fresh = fresh[['Close']] # свежие значения закрытия \n",
    "freshtime = fresh.index # индекс и время последнего значения\n",
    "print(freshtime[0])"
   ]
  },
  {
   "cell_type": "code",
   "execution_count": 21,
   "metadata": {},
   "outputs": [
    {
     "name": "stdout",
     "output_type": "stream",
     "text": [
      "76.72209930419922\n"
     ]
    }
   ],
   "source": [
    "freshdollar = fresh.loc[:,(slice(None),'USDRUB=X')].values # последнее значение доллара\n",
    "print(freshdollar[0][0])"
   ]
  },
  {
   "cell_type": "code",
   "execution_count": 22,
   "metadata": {},
   "outputs": [
    {
     "name": "stdout",
     "output_type": "stream",
     "text": [
      "82.76699829101562\n"
     ]
    }
   ],
   "source": [
    "fresheuro = fresh.loc[:,(slice(None),'EURRUB=X')].values # последнее значение евро\n",
    "print(fresheuro[0][0])"
   ]
  },
  {
   "cell_type": "code",
   "execution_count": 23,
   "metadata": {},
   "outputs": [
    {
     "name": "stdout",
     "output_type": "stream",
     "text": [
      "Доллар в нужном формате: 76,72\n",
      "Евро в нужном формате: 82,77\n",
      "Последнее обновление: 03.04.2020 15:00\n"
     ]
    }
   ],
   "source": [
    "# преобразую значение доллара и евро в нужный формат для вывода на экран\n",
    "\n",
    "dollarprint = '{:.2f}'.format(freshdollar[0][0])\n",
    "europrint = '{:.2f}'.format(fresheuro[0][0])\n",
    "\n",
    "dollarprint = dollarprint.replace('.',',')\n",
    "europrint = europrint.replace('.',',')\n",
    "\n",
    "print('Доллар в нужном формате: ' + dollarprint)\n",
    "print('Евро в нужном формате: ' + europrint)\n",
    "print('Последнее обновление: ' + now) # на всякий случай вспоминаю про то что есть данные последнего обновления"
   ]
  },
  {
   "cell_type": "markdown",
   "metadata": {},
   "source": [
    "## Оформление графика\n",
    "Теперь самое интересное. Такой график можно использовать, но одсознательно аудитория будет больше доверять единообразно оформленным визуальным коммуникациям. Диаграммы должны быть последовательно аккуратны и максимально понятны. Для этого, в качестве добавочной стоимости, используют различные приёмы графического дизайна"
   ]
  },
  {
   "cell_type": "code",
   "execution_count": 1,
   "metadata": {},
   "outputs": [
    {
     "ename": "NameError",
     "evalue": "name 'plt' is not defined",
     "output_type": "error",
     "traceback": [
      "\u001b[1;31m---------------------------------------------------------------------------\u001b[0m",
      "\u001b[1;31mNameError\u001b[0m                                 Traceback (most recent call last)",
      "\u001b[1;32m<ipython-input-1-158658ce0bcd>\u001b[0m in \u001b[0;36m<module>\u001b[1;34m\u001b[0m\n\u001b[1;32m----> 1\u001b[1;33m \u001b[0mplt\u001b[0m\u001b[1;33m.\u001b[0m\u001b[0mrcParams\u001b[0m\u001b[1;33m[\u001b[0m\u001b[1;34m'font.sans-serif'\u001b[0m\u001b[1;33m]\u001b[0m \u001b[1;33m=\u001b[0m \u001b[1;34m'GOST UI 2'\u001b[0m \u001b[1;31m# меняю шрифт по-умолчанию\u001b[0m\u001b[1;33m\u001b[0m\u001b[1;33m\u001b[0m\u001b[0m\n\u001b[0m\u001b[0;32m      2\u001b[0m \u001b[0mcsfont\u001b[0m \u001b[1;33m=\u001b[0m \u001b[1;33m{\u001b[0m\u001b[1;34m'fontname'\u001b[0m\u001b[1;33m:\u001b[0m\u001b[1;34m'Comic Sans MS'\u001b[0m\u001b[1;33m}\u001b[0m\u001b[1;33m\u001b[0m\u001b[1;33m\u001b[0m\u001b[0m\n",
      "\u001b[1;31mNameError\u001b[0m: name 'plt' is not defined"
     ]
    }
   ],
   "source": [
    "plt.rcParams['font.sans-serif'] = 'GOST UI 2' # меняю шрифт по-умолчанию"
   ]
  },
  {
   "cell_type": "code",
   "execution_count": 25,
   "metadata": {},
   "outputs": [
    {
     "data": {
      "image/png": "[encoded data removed]",
      "text/plain": [
       "<Figure size 648x616.32 with 1 Axes>"
      ]
     },
     "metadata": {},
     "output_type": "display_data"
    }
   ],
   "source": [
    "# создадим переменную fig и зададим ей размеры\n",
    "\n",
    "fig = plt.figure(\n",
    "    figsize=(9, 8.56),\n",
    "    facecolor='#F2F2F2'\n",
    ")\n",
    "\n",
    "# поместим эт фигуру в переменную ax\n",
    "# ax будет единственным графиком в модульной сетке\n",
    "# за такую настройку отвечает add_subplot()\n",
    "\n",
    "ax = fig.add_subplot()\n",
    "\n",
    "# строим кривые изменения евро и доллара\n",
    "\n",
    "ax.plot(time, euro, color='#EA3939')\n",
    "ax.plot(time, usd, color='#6294F5')\n",
    "\n",
    "# строим и задаем параметы точек последних значений\n",
    "\n",
    "ax.scatter(freshtime, fresheuro, color = 'black', zorder=2.5, edgecolors='#F2F2F2', s=70, linewidths=2)\n",
    "ax.scatter(freshtime, freshdollar, color = 'black', zorder=2.5, edgecolors='#F2F2F2', s=70, linewidths=2)\n",
    "\n",
    "# у границ модуля есть настройки видимости\n",
    "# я отключаю их кроме нижней линии оси Х\n",
    "\n",
    "ax.spines[\"top\"].set_visible(False)    \n",
    "ax.spines[\"bottom\"].set_visible(True)    \n",
    "ax.spines[\"right\"].set_visible(False)    \n",
    "ax.spines[\"left\"].set_visible(False)\n",
    "\n",
    "ax.yaxis.tick_right() # перемещаю макреры оси Y и их подписи слева направо\n",
    "\n",
    "# делаю маркеры подписей невидимым, задав их толщине нулевое значение\n",
    "# увеличиваю расстояние подписей от маркеров \n",
    "\n",
    "ax.tick_params(axis=\"x\", length=5, pad=10, labelsize = 14, color = 'grey') \n",
    "ax.tick_params(axis=\"y\", length=0, pad=10, labelsize = 14)\n",
    "\n",
    "# указываю точные координаты расстановки зачечек на оси X\n",
    "\n",
    "ax.set_xticks(['2014-01-01','2015-01-01','2016-01-01','2017-01-01','2018-01-01','2019-01-01','2020-01-01'])\n",
    "\n",
    "# указываю как эти зачечки подписать\n",
    "\n",
    "ax.set_xticklabels(['2014','2015','2016','2017','2018','2019','2020'])\n",
    "\n",
    "ax.grid(axis = 'y', color = 'grey', alpha = .3) # делаю видимыми сетки оси Y, настраиваю цвет и прозрачность\n",
    "\n",
    "ax.axhline(y = 0, color = 'black', linewidth=1) # маловероятно, что значения будут отрицательными, но пусть эта линия будет\n",
    "\n",
    "sumermax = 110 # максимальное значение оси Y\n",
    "\n",
    "# далее идут подписи таймлайна. \n",
    "# их можно было бы забирать из таблицы и расставлять циклом\n",
    "# но мне понадобилось ручное управление\n",
    "\n",
    "ax.axvline(x = '2014-03-20', ymin = 0, ymax = 1,  linewidth=1, color='grey', zorder=2.5, alpha = .2)\n",
    "ax.text('2014-03-20', sumermax*1 - sumermax/60, ' Введение', fontsize=12, color='black', zorder=2.5, alpha = .5)\n",
    "ax.text('2014-03-20', sumermax*1 - sumermax/22, ' санкций', fontsize=12, color='black', zorder=2.5, alpha = .5)\n",
    "\n",
    "ax.axvline(x = '2014-12-16', ymin = 0, ymax = .85,  linewidth=1, color='grey', zorder=2.5, alpha = .2)\n",
    "ax.text('2014-12-16', sumermax*.85 - sumermax/60, ' Черный', fontsize=12, color='black', zorder=2.5, alpha = .5)\n",
    "ax.text('2014-12-16', sumermax*.85 - sumermax/22, ' вторник', fontsize=12, color='black', zorder=2.5, alpha = .5)\n",
    "\n",
    "ax.axvline(x = '2016-02-11', ymin = 0, ymax =  1,  linewidth=1, color='grey', zorder=2.5, alpha = .2)\n",
    "ax.text('2016-02-11', sumermax*1 - sumermax/60, ' Падение цен ', fontsize=12, color='black', zorder=2.5, alpha = .5)\n",
    "ax.text('2016-02-11', sumermax*1 - sumermax/22, ' на нефть ', fontsize=12, color='black', zorder=2.5, alpha = .5)\n",
    "\n",
    "ax.axvline(x = '2017-6-14', ymin = 0, ymax = .85,  linewidth=1, color='grey', zorder=2.5, alpha = .2)\n",
    "ax.text('2017-6-14', sumermax*.85 - sumermax/60, ' Расширение', fontsize=12, color='black', zorder=2.5, alpha = .5)\n",
    "ax.text('2017-6-14', sumermax*.85 - sumermax/22, ' санкций США', fontsize=12, color='black', zorder=2.5, alpha = .5)\n",
    "\n",
    "\n",
    "ax.axvline(x = '2019-12-31', ymin = 0, ymax = 1,  linewidth=1, color='grey', zorder=2.5, alpha = .2)\n",
    "ax.text('2019-12-31', sumermax*1 - sumermax/60, ' Эпидемия ', fontsize=12, color='black', zorder=2.5, alpha = .5,)\n",
    "ax.text('2019-12-31', sumermax*1 - sumermax/22, ' коронавируса ', fontsize=12, color='black', zorder=2.5, alpha = .5)\n",
    "\n",
    "ax.axvline(x = '2020-01-20', ymin = 0, ymax =  .9,  linewidth=1, color='grey', zorder=2.5, alpha = .2)\n",
    "ax.text('2020-01-20', sumermax*.9 - sumermax/60, ' Падение цен ', fontsize=12, color='black', zorder=2.5, alpha = .5)\n",
    "ax.text('2020-01-20', sumermax*.9 - sumermax/22, ' на нефть ', fontsize=12, color='black', zorder=2.5, alpha = .5)\n",
    "\n",
    "\n",
    "ax.set_ylim(0, sumermax) # ось Y будет стоиться от нуля до максимума\n",
    "\n",
    "ax.margins(x=.16) # настраиваю поля слева и справа по оси X\n",
    "\n",
    "ax.set_title('Динамика курсов валют', fontweight = 'medium', fontsize=30, loc='left',pad=25) # настройка заголовка\n",
    "\n",
    "credit_x = ax.get_xlim()[0] # крайнее левое значение оси X\n",
    "credit_y = 0 - ax.get_ylim()[1]/8 #отступ копирайта и источника\n",
    "size1 = (ax.get_ylim()[1] - ax.get_ylim()[0])\n",
    "size2 = size1/10\n",
    "\n",
    "\n",
    "# оформление подписей меток\n",
    "\n",
    "ax.text(freshtime, fresheuro-1, '  ' + europrint +' ₽', fontsize=14)\n",
    "ax.text(freshtime, freshdollar-1, '  ' + dollarprint + ' ₽', fontsize=14)\n",
    "\n",
    "ax.text(start, usd.iloc[0]+1, ('Доллар  '), fontname = \"GOST UI 2\", fontsize=14, color='#6294F5', fontweight = 'medium', horizontalalignment='right')\n",
    "ax.text(start, usd.iloc[0]-3, ('США  '), fontname = \"GOST UI 2\", fontsize=14, color='#6294F5', fontweight = 'medium', horizontalalignment='right')\n",
    "ax.text(start, euro.iloc[0]-1, ('Евро  '), fontname = \"GOST UI 2\", fontsize=14, color='#EA3939', fontweight = 'medium', horizontalalignment='right')\n",
    "\n",
    "ax.set_ylabel('Рубли', fontsize=14, labelpad=10)\n",
    "ax.yaxis.set_label_position(\"right\")\n",
    "\n",
    "ax.text(credit_x, credit_y, ('© ТАСС, 2020. Источник: Yahoo Finance, '+now+'.'), fontsize=14)\n",
    "\n",
    "\n",
    "\n",
    "ax.patch.set_facecolor('#F2F2F2') # цвет заливки зоны построения\n",
    "\n",
    "# сохраняем фигуру\n",
    "\n",
    "fig.savefig(\n",
    "    'Exchange_Rates_TASS_'+ now2 + '.png', # имя и формат файла\n",
    "    dpi=300, # ращрешение\n",
    "    transparent = False, # отключил на всякий пожарный прозрачный\n",
    "    bbox_inches = 'tight', # не очень понятно, но без этой настройки файл получается деформированым\n",
    "    pad_inches = .5, # размер полей\n",
    "    facecolor = '#F2F2F2' # цвет фона\n",
    ")\n",
    "\n",
    "plt.show()"
   ]
  },
  {
   "cell_type": "code",
   "execution_count": null,
   "metadata": {},
   "outputs": [],
   "source": []
  }
 ],
 "metadata": {
  "kernelspec": {
   "display_name": "Python 3",
   "language": "python",
   "name": "python3"
  },
  "language_info": {
   "codemirror_mode": {
    "name": "ipython",
    "version": 3
   },
   "file_extension": ".py",
   "mimetype": "text/x-python",
   "name": "python",
   "nbconvert_exporter": "python",
   "pygments_lexer": "ipython3",
   "version": "3.7.4"
  }
 },
 "nbformat": 4,
 "nbformat_minor": 2
}
